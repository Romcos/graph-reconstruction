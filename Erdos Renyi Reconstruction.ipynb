{
 "cells": [
  {
   "cell_type": "markdown",
   "metadata": {},
   "source": [
    "# Graph"
   ]
  },
  {
   "cell_type": "code",
   "execution_count": 38,
   "metadata": {},
   "outputs": [],
   "source": [
    "import numpy as np\n",
    "import matplotlib.pyplot as plt\n",
    "import networkx as nx"
   ]
  },
  {
   "cell_type": "code",
   "execution_count": 49,
   "metadata": {},
   "outputs": [],
   "source": [
    "def ErdosRenyi(n,p):\n",
    "    A = np.random.rand(n,n)\n",
    "    for i in range(n):\n",
    "        A[i,i] = 0\n",
    "        for j in range(i+1,n):\n",
    "            A[i,j] = A[j,i]\n",
    "    return (A<p)\n",
    "\n",
    "def r_neighbours(v,A,r):\n",
    "    B = np.zeros(A.shape)\n",
    "    for k in range(r+1):\n",
    "        B += np.linalg.matrix_power(A,k)\n",
    "    return [w for w in range(A.shape[0]) if B[v,w]>0]\n",
    "\n",
    "def neighbourhood(v,A,r):\n",
    "    \"\"\"returns the r-neighbourhood of v\"\"\"\n",
    "    ngh = r_neighbours(v,A,r)\n",
    "    return A[ngh,:][:,ngh]\n",
    "\n",
    "def diameter(A):\n",
    "    n = A.shape[0]\n",
    "    B = np.zeros((n,n))\n",
    "    for r in range(n):\n",
    "        B += np.linalg.matrix_power(A,r)\n",
    "        if np.all(B>0):\n",
    "            return r\n",
    "    return np.inf\n",
    "    "
   ]
  },
  {
   "cell_type": "code",
   "execution_count": 50,
   "metadata": {},
   "outputs": [
    {
     "data": {
      "text/plain": [
       "array([[ True, False, False, False, False, False, False],\n",
       "       [False,  True, False, False, False, False, False],\n",
       "       [False, False,  True, False, False, False, False],\n",
       "       [False, False, False,  True, False, False,  True],\n",
       "       [False, False, False, False,  True, False, False],\n",
       "       [False, False, False, False, False,  True, False],\n",
       "       [False, False, False,  True, False, False,  True]])"
      ]
     },
     "execution_count": 50,
     "metadata": {},
     "output_type": "execute_result"
    }
   ],
   "source": [
    "A = ErdosRenyi(7,0.2)\n",
    "A"
   ]
  },
  {
   "cell_type": "code",
   "execution_count": 51,
   "metadata": {},
   "outputs": [
    {
     "data": {
      "text/plain": [
       "array([[ True]])"
      ]
     },
     "execution_count": 51,
     "metadata": {},
     "output_type": "execute_result"
    }
   ],
   "source": [
    "neighbourhood(0,A,3)"
   ]
  },
  {
   "cell_type": "code",
   "execution_count": 52,
   "metadata": {},
   "outputs": [
    {
     "data": {
      "text/plain": [
       "inf"
      ]
     },
     "execution_count": 52,
     "metadata": {},
     "output_type": "execute_result"
    }
   ],
   "source": [
    "diameter(A)"
   ]
  },
  {
   "cell_type": "code",
   "execution_count": 325,
   "metadata": {},
   "outputs": [
    {
     "name": "stdout",
     "output_type": "stream",
     "text": [
      "r attendu  :  2\n",
      "diam vg0<10:  3\n",
      "diametreth : 8\n"
     ]
    }
   ],
   "source": [
    "n = 10\n",
    "lamb = 2\n",
    "lambs = 0.408 #Proxi: 1/lamb\n",
    "A = ErdosRenyi(n, lamb/n)\n",
    "r = int(np.log(n)/np.log(1/0.408))#\n",
    "print(\"r attendu  : \",r)\n",
    "print(\"diam vg0<10: \",diameter(neighbourhood(0,A,r)))\n",
    "print(\"diametreth :\",int(r+2*np.log(n)/np.log(lamb)))"
   ]
  },
  {
   "cell_type": "code",
   "execution_count": 326,
   "metadata": {},
   "outputs": [
    {
     "data": {
      "image/png": "[encoded data removed]",
      "text/plain": [
       "<Figure size 432x288 with 1 Axes>"
      ]
     },
     "metadata": {},
     "output_type": "display_data"
    }
   ],
   "source": [
    "N = neighbourhood(0,A,r)\n",
    "m = N.shape[0]\n",
    "G = nx.from_numpy_matrix(neighbourhood(0,A,r))\n",
    "\n",
    "nx.draw(G,node_color = ([\"red\"]+[\"blue\"]*(m-1)))"
   ]
  }
 ],
 "metadata": {
  "kernelspec": {
   "display_name": "Python 3",
   "language": "python",
   "name": "python3"
  },
  "language_info": {
   "codemirror_mode": {
    "name": "ipython",
    "version": 3
   },
   "file_extension": ".py",
   "mimetype": "text/x-python",
   "name": "python",
   "nbconvert_exporter": "python",
   "pygments_lexer": "ipython3",
   "version": "3.7.3"
  }
 },
 "nbformat": 4,
 "nbformat_minor": 2
}
